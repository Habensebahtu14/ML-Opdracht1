{
 "cells": [
  {
   "cell_type": "markdown",
   "id": "0ba22462",
   "metadata": {},
   "source": [
    "# Opdracht 1 – Voorspellen van Herseninfarct\n",
    "## Vak: Machine Learning \n",
    "**Teamnaam:** ITCH-bv  \n",
    "**Teamleden:**  \n",
    "-  haben sebhatu\n",
    "- Chris de Nooijer\n",
    "- Tom Spoler\n",
    "- Ids Grunstra Grunstra \n",
    "\n",
    "**Datum:** 9 september 2025\n"
   ]
  },
  {
   "cell_type": "markdown",
   "id": "f064cae4",
   "metadata": {},
   "source": []
  }
 ],
 "metadata": {
  "language_info": {
   "name": "python"
  }
 },
 "nbformat": 4,
 "nbformat_minor": 5
}
