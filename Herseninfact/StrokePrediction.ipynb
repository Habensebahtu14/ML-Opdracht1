{
 "cells": [
  {
   "cell_type": "markdown",
   "id": "0ba22462",
   "metadata": {},
   "source": [
    "# Opdracht 1 – Voorspellen van Herseninfarct\n",
    "## Vak: Machine Learning \n",
    "**Teamnaam:** ITCH-bv  \n",
    "**Teamleden:**  \n",
    "-  haben sebhatu\n",
    "- Chris de Nooijer\n",
    "- Tom Spoler\n",
    "- Ids Grunstra Grunstra \n",
    "\n",
    "**Datum:** 9 september 2025\n"
   ]
  },
  {
   "cell_type": "markdown",
   "id": "f064cae4",
   "metadata": {},
   "source": [
    "# Importeer benodigde libraries\n",
    "import pandas as pd\n",
    "import numpy as np\n",
    "import matplotlib.pyplot as plt\n",
    "import seaborn as sns\n",
    "from sklearn.model_selection import train_test_split\n",
    "from sklearn.preprocessing import StandardScaler\n",
    "from sklearn.ensemble import RandomForestClassifier\n",
    "from sklearn.metrics import classification_report, confusion_matrix, accuracy_score\n",
    "import warnings\n",
    "warnings.filterwarnings('ignore')\n",
    "\n",
    "# Laad de train.csv dataset\n",
    "train_data = pd.read_csv('predicting-stroke-2025-26/train.csv')\n",
    "\n",
    "# Bekijk de eerste paar rijen van de dataset\n",
    "print(\"Dataset shape:\", train_data.shape)\n",
    "print(\"\\nEerste 5 rijen:\")\n",
    "train_data.head()\n"
   ]
  },
  {
   "cell_type": "code",
   "execution_count": 1,
   "id": "c7e51479",
   "metadata": {},
   "outputs": [
    {
     "name": "stdout",
     "output_type": "stream",
     "text": [
      "Dataset informatie:\n"
     ]
    },
    {
     "ename": "NameError",
     "evalue": "name 'train_data' is not defined",
     "output_type": "error",
     "traceback": [
      "\u001b[0;31m---------------------------------------------------------------------------\u001b[0m",
      "\u001b[0;31mNameError\u001b[0m                                 Traceback (most recent call last)",
      "Cell \u001b[0;32mIn[1], line 3\u001b[0m\n\u001b[1;32m      1\u001b[0m \u001b[38;5;66;03m# Bekijk informatie over de dataset\u001b[39;00m\n\u001b[1;32m      2\u001b[0m \u001b[38;5;28mprint\u001b[39m(\u001b[38;5;124m\"\u001b[39m\u001b[38;5;124mDataset informatie:\u001b[39m\u001b[38;5;124m\"\u001b[39m)\n\u001b[0;32m----> 3\u001b[0m \u001b[38;5;28mprint\u001b[39m(train_data\u001b[38;5;241m.\u001b[39minfo())\n\u001b[1;32m      4\u001b[0m \u001b[38;5;28mprint\u001b[39m(\u001b[38;5;124m\"\u001b[39m\u001b[38;5;130;01m\\n\u001b[39;00m\u001b[38;5;124m\"\u001b[39m \u001b[38;5;241m+\u001b[39m \u001b[38;5;124m\"\u001b[39m\u001b[38;5;124m=\u001b[39m\u001b[38;5;124m\"\u001b[39m\u001b[38;5;241m*\u001b[39m\u001b[38;5;241m50\u001b[39m)\n\u001b[1;32m      5\u001b[0m \u001b[38;5;28mprint\u001b[39m(\u001b[38;5;124m\"\u001b[39m\u001b[38;5;130;01m\\n\u001b[39;00m\u001b[38;5;124mBeschrijvende statistieken:\u001b[39m\u001b[38;5;124m\"\u001b[39m)\n",
      "\u001b[0;31mNameError\u001b[0m: name 'train_data' is not defined"
     ]
    }
   ],
   "source": [
    "# Bekijk informatie over de dataset\n",
    "print(\"Dataset informatie:\")\n",
    "print(train_data.info())\n",
    "print(\"\\n\" + \"=\"*50)\n",
    "print(\"\\nBeschrijvende statistieken:\")\n",
    "print(train_data.describe())\n",
    "print(\"\\n\" + \"=\"*50)\n",
    "print(\"\\nMissing values per kolom:\")\n",
    "print(train_data.isnull().sum())\n"
   ]
  },
  {
   "cell_type": "code",
   "execution_count": null,
   "id": "a1ee5bd3",
   "metadata": {},
   "outputs": [],
   "source": []
  }
 ],
 "metadata": {
  "kernelspec": {
   "display_name": "base",
   "language": "python",
   "name": "python3"
  },
  "language_info": {
   "codemirror_mode": {
    "name": "ipython",
    "version": 3
   },
   "file_extension": ".py",
   "mimetype": "text/x-python",
   "name": "python",
   "nbconvert_exporter": "python",
   "pygments_lexer": "ipython3",
   "version": "3.12.4"
  }
 },
 "nbformat": 4,
 "nbformat_minor": 5
}
